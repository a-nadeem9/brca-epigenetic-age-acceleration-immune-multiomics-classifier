{
 "cells": [
  {
   "cell_type": "code",
   "execution_count": 1,
   "id": "b52e96f5",
   "metadata": {
    "vscode": {
     "languageId": "r"
    }
   },
   "outputs": [
    {
     "name": "stderr",
     "output_type": "stream",
     "text": [
      "'getOption(\"repos\")' replaces Bioconductor standard repositories, see\n",
      "'help(\"repositories\", package = \"BiocManager\")' for details.\n",
      "Replacement repositories:\n",
      "    CRAN: https://cran.r-project.org\n",
      "\n",
      "Bioconductor version 3.22 (BiocManager 1.30.26), R 4.5.0 (2025-04-11 ucrt)\n",
      "\n",
      "Warning message:\n",
      "\"package(s) not installed when version(s) same as or greater than current; use\n",
      "  `force = TRUE` to re-install: 'ggplot2' 'glmmTMB' 'ggpubr' 'devtools'\n",
      "  'magick' 'reshape2' 'minfi' 'sesame' 'methylclock'\"\n",
      "Installation paths not writeable, unable to update packages\n",
      "  path: C:/Program Files/R/R-4.5.0/library\n",
      "  packages:\n",
      "    lattice, mgcv\n",
      "\n",
      "Old packages: 'cli', 'tibble'\n",
      "\n",
      "Using GitHub PAT from the git credential store.\n",
      "\n",
      "Skipping install of 'EpigeneticAgePipeline' from a github remote, the SHA1 (f911b843) has not changed since last install.\n",
      "  Use `force = TRUE` to force installation\n",
      "\n"
     ]
    }
   ],
   "source": [
    "if (!requireNamespace(\"BiocManager\", quietly=TRUE))\n",
    "  install.packages(\"BiocManager\")\n",
    "\n",
    "# Install all the heavy Bioc/CRAN deps plus the pipeline itself\n",
    "BiocManager::install(c(\n",
    "  \"ggplot2\",\"glmmTMB\",\"ggpubr\",\"devtools\",\"magick\",\"reshape2\",\n",
    "  \"minfi\",\"sesame\",\"methylclock\"\n",
    "))\n",
    "remotes::install_github(\"CastellaniLab/EpigeneticAgePipeline\")\n"
   ]
  },
  {
   "cell_type": "code",
   "execution_count": null,
   "id": "77884b8c",
   "metadata": {
    "vscode": {
     "languageId": "r"
    }
   },
   "outputs": [
    {
     "name": "stderr",
     "output_type": "stream",
     "text": [
      "Setting options('download.file.method.GEOquery'='auto')\n",
      "\n",
      "Setting options('GEOquery.inmemory.gpl'=FALSE)\n",
      "\n",
      "Warning message:\n",
      "\"replacing previous import 'utils::findMatches' by 'S4Vectors::findMatches' when loading 'ExperimentHubData'\"\n",
      "No methods found in package 'rtracklayer' for request: 'trackName<-' when loading 'AnnotationHubData'\n",
      "\n",
      "Registered S3 methods overwritten by 'ggpp':\n",
      "  method                  from   \n",
      "  heightDetails.titleGrob ggplot2\n",
      "  widthDetails.titleGrob  ggplot2\n",
      "\n",
      "Loading dependencies...\n",
      "\n",
      "Reading betaValues.csv...\n",
      "\n"
     ]
    }
   ],
   "source": [
    "# 1. Load the pipeline\n",
    "library(EpigeneticAgePipeline)\n",
    "\n",
    "setwd(\"C:/Users/Lenovo/Desktop/brca-immune-age\")\n",
    "\n",
    "\n",
    "# 2. Run main() on your β-matrix\n",
    "main(\n",
    "  directory      = \"data\",      # folder containing betaValues.csv\n",
    "  normalize      = FALSE,       # already normalized β-values\n",
    "  useBeta        = TRUE,        # read from betaValues.csv\n",
    "  arrayType      = \"450K\",      # HM450 array\n",
    "  useSampleSheet = FALSE,       # no Sample_Sheet.csv needed\n",
    "  doParallel     = FALSE,       # set TRUE if you want parallel I/O\n",
    "  writeBeta      = FALSE,       # we've already written β-values\n",
    "  useAdult       = FALSE        # adjust for cord/adult blood if needed\n",
    ")\n"
   ]
  }
 ],
 "metadata": {
  "kernelspec": {
   "display_name": "R (brca_age)",
   "language": "R",
   "name": "brca_age"
  },
  "language_info": {
   "codemirror_mode": "r",
   "file_extension": ".r",
   "mimetype": "text/x-r-source",
   "name": "R",
   "pygments_lexer": "r",
   "version": "4.5.0"
  }
 },
 "nbformat": 4,
 "nbformat_minor": 5
}
