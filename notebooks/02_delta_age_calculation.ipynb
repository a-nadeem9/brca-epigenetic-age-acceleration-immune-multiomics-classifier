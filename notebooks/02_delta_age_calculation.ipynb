{
 "cells": [
  {
   "cell_type": "markdown",
   "id": "3f9e0399",
   "metadata": {},
   "source": [
    "## Delta Age Calculation"
   ]
  },
  {
   "cell_type": "markdown",
   "id": "8e9cf4fb",
   "metadata": {},
   "source": [
    "Here we use the script `04_epigenetic_age.R` to first download the corresponding age for our beta matrix, then we use it together with clinical data to compute delta age. "
   ]
  },
  {
   "cell_type": "code",
   "execution_count": 1,
   "id": "c26c06c0",
   "metadata": {},
   "outputs": [
    {
     "name": "stdout",
     "output_type": "stream",
     "text": [
      "['clinical']\n"
     ]
    }
   ],
   "source": [
    "import h5py\n",
    "\n",
    "# adjust the path if needed\n",
    "clin_file = h5py.File('../data/clinical_matched_final.h5', 'r')\n",
    "print(list(clin_file.keys()))\n"
   ]
  },
  {
   "cell_type": "code",
   "execution_count": 2,
   "id": "acbfc1c1",
   "metadata": {},
   "outputs": [
    {
     "name": "stdout",
     "output_type": "stream",
     "text": [
      "['axis0', 'axis1', 'block0_items', 'block0_values', 'block1_items', 'block1_values']\n"
     ]
    }
   ],
   "source": [
    "# List all datasets/objects under the \"clinical\" group\n",
    "print(list(clin_file['clinical'].keys()))\n"
   ]
  },
  {
   "cell_type": "code",
   "execution_count": 4,
   "id": "ecf6f29e",
   "metadata": {},
   "outputs": [
    {
     "name": "stdout",
     "output_type": "stream",
     "text": [
      "(693, 104)\n",
      "Index(['project', 'submitter_id', 'synchronous_malignancy',\n",
      "       'ajcc_pathologic_stage', 'days_to_diagnosis', 'laterality',\n",
      "       'created_datetime', 'last_known_disease_status',\n",
      "       'tissue_or_organ_of_origin', 'age_at_diagnosis',\n",
      "       ...\n",
      "       'treatments_radiation_treatment_dose',\n",
      "       'treatments_radiation_number_of_fractions',\n",
      "       'treatments_radiation_treatment_dose_units',\n",
      "       'treatments_radiation_prescribed_dose_units',\n",
      "       'treatments_radiation_route_of_administration',\n",
      "       'treatments_radiation_prescribed_dose',\n",
      "       'treatments_radiation_number_of_cycles', 'bcr_patient_barcode',\n",
      "       'Subtype', 'Subtype_binary'],\n",
      "      dtype='object', length=104)\n",
      "     project  submitter_id synchronous_malignancy ajcc_pathologic_stage  \\\n",
      "0  TCGA-BRCA  TCGA-A7-A0DC                     No              Stage IA   \n",
      "1  TCGA-BRCA  TCGA-Z7-A8R6                     No               Stage I   \n",
      "2  TCGA-BRCA  TCGA-C8-A1HE                     No             Stage IIA   \n",
      "3  TCGA-BRCA  TCGA-AC-A2FM                     No             Stage IIB   \n",
      "4  TCGA-BRCA  TCGA-B6-A1KF                     No             Stage IIB   \n",
      "\n",
      "   days_to_diagnosis laterality  created_datetime last_known_disease_status  \\\n",
      "0                0.0        NaN               NaN              not reported   \n",
      "1                0.0       Left               NaN                       NaN   \n",
      "2                0.0      Right               NaN                       NaN   \n",
      "3                0.0      Right               NaN                       NaN   \n",
      "4                0.0      Right               NaN                       NaN   \n",
      "\n",
      "      tissue_or_organ_of_origin  age_at_diagnosis  ...  \\\n",
      "0                   Breast, NOS           23294.0  ...   \n",
      "1  Overlapping lesion of breast           16955.0  ...   \n",
      "2                   Breast, NOS               NaN  ...   \n",
      "3                   Breast, NOS           31805.0  ...   \n",
      "4                   Breast, NOS           24891.0  ...   \n",
      "\n",
      "  treatments_radiation_treatment_dose  \\\n",
      "0                                 NaN   \n",
      "1                                 NaN   \n",
      "2                                 NaN   \n",
      "3                                 NaN   \n",
      "4                                 NaN   \n",
      "\n",
      "  treatments_radiation_number_of_fractions  \\\n",
      "0                                      NaN   \n",
      "1                                      NaN   \n",
      "2                                      NaN   \n",
      "3                                      NaN   \n",
      "4                                      NaN   \n",
      "\n",
      "  treatments_radiation_treatment_dose_units  \\\n",
      "0                                       NaN   \n",
      "1                                       NaN   \n",
      "2                                       NaN   \n",
      "3                                       NaN   \n",
      "4                                       NaN   \n",
      "\n",
      "   treatments_radiation_prescribed_dose_units  \\\n",
      "0                                         NaN   \n",
      "1                                         NaN   \n",
      "2                                         NaN   \n",
      "3                                         NaN   \n",
      "4                                         NaN   \n",
      "\n",
      "  treatments_radiation_route_of_administration  \\\n",
      "0                                          NaN   \n",
      "1                                          NaN   \n",
      "2                                          NaN   \n",
      "3                                          NaN   \n",
      "4                                          NaN   \n",
      "\n",
      "  treatments_radiation_prescribed_dose treatments_radiation_number_of_cycles  \\\n",
      "0                                  NaN                                   NaN   \n",
      "1                                  NaN                                   NaN   \n",
      "2                                  NaN                                   NaN   \n",
      "3                                  NaN                                   NaN   \n",
      "4                                  NaN                                   NaN   \n",
      "\n",
      "   bcr_patient_barcode Subtype Subtype_binary  \n",
      "0         TCGA-A7-A0DC    LumA        Luminal  \n",
      "1         TCGA-Z7-A8R6    LumB        Luminal  \n",
      "2         TCGA-C8-A1HE    LumA        Luminal  \n",
      "3         TCGA-AC-A2FM    LumA        Luminal  \n",
      "4         TCGA-B6-A1KF   Basal          Basal  \n",
      "\n",
      "[5 rows x 104 columns]\n"
     ]
    }
   ],
   "source": [
    "import pandas as pd\n",
    "\n",
    "# Read the “clinical” table into a DataFrame\n",
    "clin_df = pd.read_hdf('../data/clinical_matched_final.h5', key='clinical')\n",
    "\n",
    "# Inspect the first few rows and column names\n",
    "print(clin_df.shape)\n",
    "print(clin_df.columns)\n",
    "print(clin_df.head())\n"
   ]
  },
  {
   "cell_type": "code",
   "execution_count": null,
   "id": "c7636a47",
   "metadata": {},
   "outputs": [
    {
     "name": "stdout",
     "output_type": "stream",
     "text": [
      "Index(['SampleID', 'Horvath', 'Hannum', 'PhenoAge'], dtype='object')\n",
      "                       SampleID    Horvath     Hannum    PhenoAge\n",
      "0  TCGA.C8.A27B.01A.11D.A16A.05  51.016160  59.922895   58.864954\n",
      "1  TCGA.E9.A3Q9.01A.11D.A21R.05  90.682470  95.135643   77.420191\n",
      "2  TCGA.C8.A3M8.01A.11D.A212.05  72.551975  81.478883  131.116288\n",
      "3  TCGA.E9.A5FL.01A.11D.A27Y.05  52.947196  57.197608   51.469576\n",
      "4  TCGA.A2.A25F.01A.11D.A16A.05  65.443928  76.206872   48.476791\n"
     ]
    }
   ],
   "source": [
    "import pandas as pd\n",
    "\n",
    "# Load the three-clocks phenotype table\n",
    "clocks_df = pd.read_csv('../results/epigenetic_age.csv')\n",
    "\n",
    "# Inspect its columns and first few rows\n",
    "print(clocks_df.columns)\n",
    "print(clocks_df.head())\n"
   ]
  },
  {
   "cell_type": "code",
   "execution_count": null,
   "id": "3d607bc2",
   "metadata": {},
   "outputs": [
    {
     "name": "stdout",
     "output_type": "stream",
     "text": [
      "                       SampleID    patient_id\n",
      "0  TCGA.C8.A27B.01A.11D.A16A.05  TCGA-C8-A27B\n",
      "1  TCGA.E9.A3Q9.01A.11D.A21R.05  TCGA-E9-A3Q9\n",
      "2  TCGA.C8.A3M8.01A.11D.A212.05  TCGA-C8-A3M8\n",
      "3  TCGA.E9.A5FL.01A.11D.A27Y.05  TCGA-E9-A5FL\n",
      "4  TCGA.A2.A25F.01A.11D.A16A.05  TCGA-A2-A25F\n"
     ]
    }
   ],
   "source": [
    "# Extract patient barcode from SampleID for merging\n",
    "clocks_df['patient_id'] = (\n",
    "    clocks_df['SampleID']\n",
    "      .str.replace('.', '-', regex=False)\n",
    "      .str.split('-')\n",
    "      .str[:3]\n",
    "      .str.join('-')\n",
    ")\n",
    "\n",
    "print(clocks_df[['SampleID', 'patient_id']].head())\n"
   ]
  },
  {
   "cell_type": "code",
   "execution_count": 7,
   "id": "580cc15d",
   "metadata": {},
   "outputs": [
    {
     "name": "stdout",
     "output_type": "stream",
     "text": [
      "Merged rows: 693\n",
      "Columns now include clock ages: ['Horvath', 'Hannum', 'PhenoAge']\n"
     ]
    }
   ],
   "source": [
    "# Merge clinical and clocks DataFrames on patient ID\n",
    "merged_df = clin_df.merge(\n",
    "    clocks_df,\n",
    "    left_on='submitter_id',\n",
    "    right_on='patient_id',\n",
    "    how='inner'\n",
    ")\n",
    "\n",
    "# Check that the merge worked\n",
    "print(\"Merged rows:\", merged_df.shape[0])\n",
    "print(\"Columns now include clock ages:\", ['Horvath', 'Hannum', 'PhenoAge'])\n"
   ]
  },
  {
   "cell_type": "code",
   "execution_count": 8,
   "id": "fb4c422d",
   "metadata": {},
   "outputs": [
    {
     "name": "stdout",
     "output_type": "stream",
     "text": [
      "   submitter_id  age_at_diagnosis  chrono_age\n",
      "0  TCGA-A7-A0DC           23294.0   63.775496\n",
      "1  TCGA-Z7-A8R6           16955.0   46.420260\n",
      "2  TCGA-C8-A1HE               NaN         NaN\n",
      "3  TCGA-AC-A2FM           31805.0   87.077344\n",
      "4  TCGA-B6-A1KF           24891.0   68.147844\n"
     ]
    }
   ],
   "source": [
    "# Compute chronological age in years\n",
    "merged_df['chrono_age'] = merged_df['age_at_diagnosis'] / 365.25\n",
    "\n",
    "# Check the result\n",
    "print(merged_df[['submitter_id', 'age_at_diagnosis', 'chrono_age']].head())\n"
   ]
  },
  {
   "cell_type": "code",
   "execution_count": 26,
   "id": "85a28023",
   "metadata": {},
   "outputs": [],
   "source": [
    "# Calculate delta age for each clock\n",
    "merged_df['delta_Horvath'] = merged_df['Horvath'] - merged_df['chrono_age']\n",
    "merged_df['delta_Hannum']  = merged_df['Hannum']  - merged_df['chrono_age']\n",
    "merged_df['delta_PhenoAge'] = merged_df['PhenoAge'] - merged_df['chrono_age']\n",
    "\n",
    "# Preview the new delta columns\n",
    "df = merged_df[['submitter_id',\n",
    "                 'chrono_age',\n",
    "                 'Horvath','delta_Horvath',\n",
    "                 'Hannum','delta_Hannum',\n",
    "                 'PhenoAge','delta_PhenoAge']]\n"
   ]
  },
  {
   "cell_type": "code",
   "execution_count": 27,
   "id": "8e085a7b",
   "metadata": {},
   "outputs": [
    {
     "data": {
      "text/html": [
       "<div>\n",
       "<style scoped>\n",
       "    .dataframe tbody tr th:only-of-type {\n",
       "        vertical-align: middle;\n",
       "    }\n",
       "\n",
       "    .dataframe tbody tr th {\n",
       "        vertical-align: top;\n",
       "    }\n",
       "\n",
       "    .dataframe thead th {\n",
       "        text-align: right;\n",
       "    }\n",
       "</style>\n",
       "<table border=\"1\" class=\"dataframe\">\n",
       "  <thead>\n",
       "    <tr style=\"text-align: right;\">\n",
       "      <th></th>\n",
       "      <th>submitter_id</th>\n",
       "      <th>chrono_age</th>\n",
       "      <th>Horvath</th>\n",
       "      <th>delta_Horvath</th>\n",
       "      <th>Hannum</th>\n",
       "      <th>delta_Hannum</th>\n",
       "      <th>PhenoAge</th>\n",
       "      <th>delta_PhenoAge</th>\n",
       "    </tr>\n",
       "  </thead>\n",
       "  <tbody>\n",
       "    <tr>\n",
       "      <th>0</th>\n",
       "      <td>TCGA-A7-A0DC</td>\n",
       "      <td>63.775496</td>\n",
       "      <td>56.251378</td>\n",
       "      <td>-7.524118</td>\n",
       "      <td>81.887942</td>\n",
       "      <td>18.112446</td>\n",
       "      <td>68.625691</td>\n",
       "      <td>4.850195</td>\n",
       "    </tr>\n",
       "    <tr>\n",
       "      <th>1</th>\n",
       "      <td>TCGA-Z7-A8R6</td>\n",
       "      <td>46.420260</td>\n",
       "      <td>60.334151</td>\n",
       "      <td>13.913891</td>\n",
       "      <td>41.935062</td>\n",
       "      <td>-4.485198</td>\n",
       "      <td>60.620185</td>\n",
       "      <td>14.199925</td>\n",
       "    </tr>\n",
       "    <tr>\n",
       "      <th>2</th>\n",
       "      <td>TCGA-C8-A1HE</td>\n",
       "      <td>NaN</td>\n",
       "      <td>118.668474</td>\n",
       "      <td>NaN</td>\n",
       "      <td>93.308850</td>\n",
       "      <td>NaN</td>\n",
       "      <td>123.740680</td>\n",
       "      <td>NaN</td>\n",
       "    </tr>\n",
       "    <tr>\n",
       "      <th>3</th>\n",
       "      <td>TCGA-AC-A2FM</td>\n",
       "      <td>87.077344</td>\n",
       "      <td>66.273647</td>\n",
       "      <td>-20.803697</td>\n",
       "      <td>88.594473</td>\n",
       "      <td>1.517129</td>\n",
       "      <td>78.990897</td>\n",
       "      <td>-8.086447</td>\n",
       "    </tr>\n",
       "    <tr>\n",
       "      <th>4</th>\n",
       "      <td>TCGA-B6-A1KF</td>\n",
       "      <td>68.147844</td>\n",
       "      <td>37.688618</td>\n",
       "      <td>-30.459226</td>\n",
       "      <td>52.308356</td>\n",
       "      <td>-15.839488</td>\n",
       "      <td>60.762564</td>\n",
       "      <td>-7.385280</td>\n",
       "    </tr>\n",
       "  </tbody>\n",
       "</table>\n",
       "</div>"
      ],
      "text/plain": [
       "   submitter_id  chrono_age     Horvath  delta_Horvath     Hannum  \\\n",
       "0  TCGA-A7-A0DC   63.775496   56.251378      -7.524118  81.887942   \n",
       "1  TCGA-Z7-A8R6   46.420260   60.334151      13.913891  41.935062   \n",
       "2  TCGA-C8-A1HE         NaN  118.668474            NaN  93.308850   \n",
       "3  TCGA-AC-A2FM   87.077344   66.273647     -20.803697  88.594473   \n",
       "4  TCGA-B6-A1KF   68.147844   37.688618     -30.459226  52.308356   \n",
       "\n",
       "   delta_Hannum    PhenoAge  delta_PhenoAge  \n",
       "0     18.112446   68.625691        4.850195  \n",
       "1     -4.485198   60.620185       14.199925  \n",
       "2           NaN  123.740680             NaN  \n",
       "3      1.517129   78.990897       -8.086447  \n",
       "4    -15.839488   60.762564       -7.385280  "
      ]
     },
     "execution_count": 27,
     "metadata": {},
     "output_type": "execute_result"
    }
   ],
   "source": [
    "df.head() "
   ]
  },
  {
   "cell_type": "code",
   "execution_count": 28,
   "id": "bce27f83",
   "metadata": {},
   "outputs": [],
   "source": [
    "df.to_csv('delta_age_with_chrono_age.csv', index=False)"
   ]
  },
  {
   "cell_type": "code",
   "execution_count": 11,
   "id": "552b8d08",
   "metadata": {},
   "outputs": [],
   "source": [
    "# Select only the patient ID and delta-age columns\n",
    "delta_df = merged_df[['submitter_id', 'delta_Horvath', 'delta_Hannum', 'delta_PhenoAge']]\n",
    "\n",
    "# Save this delta-age-only table to its own CSV\n",
    "delta_df.to_csv('delta_ages_only.csv', index=False)\n"
   ]
  },
  {
   "cell_type": "code",
   "execution_count": 13,
   "id": "3f8f576b",
   "metadata": {},
   "outputs": [
    {
     "data": {
      "text/html": [
       "<div>\n",
       "<style scoped>\n",
       "    .dataframe tbody tr th:only-of-type {\n",
       "        vertical-align: middle;\n",
       "    }\n",
       "\n",
       "    .dataframe tbody tr th {\n",
       "        vertical-align: top;\n",
       "    }\n",
       "\n",
       "    .dataframe thead th {\n",
       "        text-align: right;\n",
       "    }\n",
       "</style>\n",
       "<table border=\"1\" class=\"dataframe\">\n",
       "  <thead>\n",
       "    <tr style=\"text-align: right;\">\n",
       "      <th></th>\n",
       "      <th>submitter_id</th>\n",
       "      <th>delta_Horvath</th>\n",
       "      <th>delta_Hannum</th>\n",
       "      <th>delta_PhenoAge</th>\n",
       "    </tr>\n",
       "  </thead>\n",
       "  <tbody>\n",
       "    <tr>\n",
       "      <th>0</th>\n",
       "      <td>TCGA-A7-A0DC</td>\n",
       "      <td>-7.524118</td>\n",
       "      <td>18.112446</td>\n",
       "      <td>4.850195</td>\n",
       "    </tr>\n",
       "    <tr>\n",
       "      <th>1</th>\n",
       "      <td>TCGA-Z7-A8R6</td>\n",
       "      <td>13.913891</td>\n",
       "      <td>-4.485198</td>\n",
       "      <td>14.199925</td>\n",
       "    </tr>\n",
       "    <tr>\n",
       "      <th>2</th>\n",
       "      <td>TCGA-C8-A1HE</td>\n",
       "      <td>NaN</td>\n",
       "      <td>NaN</td>\n",
       "      <td>NaN</td>\n",
       "    </tr>\n",
       "    <tr>\n",
       "      <th>3</th>\n",
       "      <td>TCGA-AC-A2FM</td>\n",
       "      <td>-20.803697</td>\n",
       "      <td>1.517129</td>\n",
       "      <td>-8.086447</td>\n",
       "    </tr>\n",
       "    <tr>\n",
       "      <th>4</th>\n",
       "      <td>TCGA-B6-A1KF</td>\n",
       "      <td>-30.459226</td>\n",
       "      <td>-15.839488</td>\n",
       "      <td>-7.385280</td>\n",
       "    </tr>\n",
       "  </tbody>\n",
       "</table>\n",
       "</div>"
      ],
      "text/plain": [
       "   submitter_id  delta_Horvath  delta_Hannum  delta_PhenoAge\n",
       "0  TCGA-A7-A0DC      -7.524118     18.112446        4.850195\n",
       "1  TCGA-Z7-A8R6      13.913891     -4.485198       14.199925\n",
       "2  TCGA-C8-A1HE            NaN           NaN             NaN\n",
       "3  TCGA-AC-A2FM     -20.803697      1.517129       -8.086447\n",
       "4  TCGA-B6-A1KF     -30.459226    -15.839488       -7.385280"
      ]
     },
     "execution_count": 13,
     "metadata": {},
     "output_type": "execute_result"
    }
   ],
   "source": [
    "delta_df.head()"
   ]
  },
  {
   "cell_type": "code",
   "execution_count": 14,
   "id": "ca6ded58",
   "metadata": {},
   "outputs": [
    {
     "name": "stdout",
     "output_type": "stream",
     "text": [
      "       delta_Horvath  delta_Hannum  delta_PhenoAge\n",
      "count     682.000000    682.000000      682.000000\n",
      "mean        8.332736     14.262991       26.385602\n",
      "std        21.494818     21.589990       31.344737\n",
      "min       -63.731602    -47.875896      -49.538148\n",
      "25%        -5.136051      0.255667        3.899130\n",
      "50%         7.070214     13.287521       22.997552\n",
      "75%        20.927791     26.513704       43.845220\n",
      "max        97.365099    104.283385      198.296027\n",
      "delta_Horvath: 0 samples >|100| years\n",
      "delta_Hannum: 1 samples >|100| years\n",
      "delta_PhenoAge: 17 samples >|100| years\n"
     ]
    },
    {
     "data": {
      "image/png": "[encoded data removed]",
      "text/plain": [
       "<Figure size 1200x400 with 3 Axes>"
      ]
     },
     "metadata": {},
     "output_type": "display_data"
    }
   ],
   "source": [
    "import pandas as pd\n",
    "import matplotlib.pyplot as plt\n",
    "\n",
    "\n",
    "d2 = delta_df.dropna(subset=[\"delta_Horvath\",\"delta_Hannum\",\"delta_PhenoAge\"])\n",
    "\n",
    "# 1) basic summary\n",
    "print(d2[[\"delta_Horvath\",\"delta_Hannum\",\"delta_PhenoAge\"]].describe())\n",
    "\n",
    "# 2) how many extreme outliers > |100| years?\n",
    "for col in [\"delta_Horvath\",\"delta_Hannum\",\"delta_PhenoAge\"]:\n",
    "    n_out = (d2[col].abs() > 100).sum()\n",
    "    print(f\"{col}: {n_out} samples >|100| years\")\n",
    "\n",
    "# 3) histogram\n",
    "fig, axes = plt.subplots(1,3,figsize=(12,4))\n",
    "for ax, col in zip(axes, [\"delta_Horvath\",\"delta_Hannum\",\"delta_PhenoAge\"]):\n",
    "    d2[col].hist(bins=50, ax=ax)\n",
    "    ax.set_title(col)\n",
    "    ax.set_xlabel(\"Δ-age (years)\")\n",
    "plt.tight_layout()\n",
    "plt.show()\n"
   ]
  }
 ],
 "metadata": {
  "kernelspec": {
   "display_name": "Python 3",
   "language": "python",
   "name": "python3"
  },
  "language_info": {
   "codemirror_mode": {
    "name": "ipython",
    "version": 3
   },
   "file_extension": ".py",
   "mimetype": "text/x-python",
   "name": "python",
   "nbconvert_exporter": "python",
   "pygments_lexer": "ipython3",
   "version": "3.13.3"
  }
 },
 "nbformat": 4,
 "nbformat_minor": 5
}
